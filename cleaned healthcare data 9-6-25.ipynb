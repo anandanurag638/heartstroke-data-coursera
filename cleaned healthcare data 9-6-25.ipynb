{
 "cells": [
  {
   "cell_type": "code",
   "execution_count": null,
   "id": "4fe6afe3",
   "metadata": {},
   "outputs": [],
   "source": [
    "import pandas as pd\n",
    "import numpy as np\n",
    "\n",
    "# --- STAGE 1: LOAD THE DATA ---\n",
    "# This line creates the 'df' DataFrame, fixing the error.\n",
    "# Make sure your CSV file is in the same folder as your notebook.\n",
    "print(\"Loading data...\")\n",
    "df = pd.read_csv(r\"C:\\Users\\anura\\Downloads\\_stroke-prediction (3)\\healthcare-dataset-stroke-data.csv\")\n",
    "print(\"Data loaded successfully.\")\n",
    "\n",
    "# --- STAGE 2: CLEAN THE DATA ---\n",
    "# Fill missing BMI values with the median\n",
    "print(\"\\nCleaning data...\")\n",
    "median_bmi = df['bmi'].median()\n",
    "df['bmi'].fillna(median_bmi, inplace=True)\n",
    "print(\"Missing BMI values handled.\")\n",
    "\n",
    "# --- STAGE 3: TRANSFORM SKEWED COLUMNS ---\n",
    "# Define the columns that need fixing\n",
    "cols_to_transform = ['avg_glucose_level', 'bmi']\n",
    "\n",
    "print(\"\\nApplying log transformation to fix skewness...\")\n",
    "# Apply the log transform using numpy\n",
    "for col in cols_to_transform:\n",
    "    df[col] = np.log1p(df[col])\n",
    "print(\"Transformation complete.\")\n",
    "\n",
    "# --- Verification ---\n",
    "print(\"\\n--- FINAL SKEWNESS ---\")\n",
    "print(df[cols_to_transform].skew())"
   ]
  },
  {
   "cell_type": "code",
   "execution_count": null,
   "id": "55a509c6",
   "metadata": {},
   "outputs": [],
   "source": [
    "df.head(5)"
   ]
  },
  {
   "cell_type": "code",
   "execution_count": null,
   "id": "84ceaeb3",
   "metadata": {},
   "outputs": [],
   "source": [
    "import matplotlib.pyplot as plt\n",
    "import seaborn as sns\n",
    "\n",
    "# Set a nice visual style for the plots\n",
    "sns.set_style('whitegrid')\n",
    "\n",
    "# Create a count plot for the 'stroke' variable\n",
    "plt.figure(figsize=(7, 5))\n",
    "sns.countplot(x='stroke', data=df)\n",
    "plt.title('Distribution of Stroke Cases')\n",
    "plt.xticks([0, 1], ['No Stroke', 'Stroke'])\n",
    "plt.xlabel('Stroke Outcome')\n",
    "plt.ylabel('Number of Patients')\n",
    "plt.show()"
   ]
  },
  {
   "cell_type": "code",
   "execution_count": null,
   "id": "a8a27a30",
   "metadata": {},
   "outputs": [],
   "source": [
    "# Create a histogram to see age distribution by stroke status\n",
    "plt.figure(figsize=(10, 6))\n",
    "sns.histplot(data=df, x='age', hue='stroke', kde=True)\n",
    "plt.title('Age Distribution by Stroke Status')\n",
    "plt.xlabel('Age')\n",
    "plt.ylabel('Count')\n",
    "plt.show()"
   ]
  },
  {
   "cell_type": "code",
   "execution_count": null,
   "id": "1323575b",
   "metadata": {},
   "outputs": [],
   "source": [
    "# Create subplots for multiple categorical features\n",
    "fig, axes = plt.subplots(1, 2, figsize=(14, 5))\n",
    "\n",
    "# Plot for Hypertension\n",
    "sns.countplot(ax=axes[0], x='hypertension', hue='stroke', data=df)\n",
    "axes[0].set_title('Hypertension vs. Stroke')\n",
    "axes[0].set_xticklabels(['No Hypertension', 'Hypertension'])\n",
    "\n",
    "# Plot for Heart Disease\n",
    "sns.countplot(ax=axes[1], x='heart_disease', hue='stroke', data=df)\n",
    "axes[1].set_title('Heart Disease vs. Stroke')\n",
    "axes[1].set_xticklabels(['No Heart Disease', 'Heart Disease'])\n",
    "\n",
    "plt.tight_layout()\n",
    "plt.show()"
   ]
  },
  {
   "cell_type": "code",
   "execution_count": null,
   "id": "f03d6254",
   "metadata": {},
   "outputs": [],
   "source": [
    "# Select only numerical columns for the correlation matrix\n",
    "numerical_cols = df.select_dtypes(include=['int64', 'float64'])\n",
    "\n",
    "# Calculate the correlation matrix\n",
    "corr_matrix = numerical_cols.corr()\n",
    "\n",
    "# Plot the heatmap\n",
    "plt.figure(figsize=(12, 9))\n",
    "sns.heatmap(corr_matrix, annot=True, cmap='coolwarm', fmt='.2f')\n",
    "plt.title('Correlation Heatmap of Numerical Features')\n",
    "plt.show()"
   ]
  },
  {
   "cell_type": "code",
   "execution_count": null,
   "id": "d2e72e47",
   "metadata": {},
   "outputs": [],
   "source": [
    "# Convert all categorical columns into numerical ones using one-hot encoding\n",
    "print(\"Original number of columns:\", df.shape[1])\n",
    "\n",
    "# We add dtype=int to ensure the new columns are 1s and 0s\n",
    "df_encoded = pd.get_dummies(df, \n",
    "                            columns=['gender', 'ever_married', 'work_type', 'Residence_type', 'smoking_status'], \n",
    "                            drop_first=True, \n",
    "                            dtype=int)\n",
    "\n",
    "print(\"New number of columns after encoding:\", df_encoded.shape[1])\n",
    "\n",
    "# Display the first few rows to see the new 0/1 columns\n",
    "df_encoded.head()\n"
   ]
  },
  {
   "cell_type": "code",
   "execution_count": null,
   "id": "52ab2da6",
   "metadata": {},
   "outputs": [],
   "source": [
    "# Separate the features (X) from the target variable (y)\n",
    "X = df_encoded.drop(['stroke', 'id'], axis=1)\n",
    "y = df_encoded['stroke']"
   ]
  },
  {
   "cell_type": "code",
   "execution_count": null,
   "id": "f8c8379b",
   "metadata": {},
   "outputs": [],
   "source": [
    "from imblearn.over_sampling import SMOTE\n",
    "\n",
    "# Apply SMOTE to the dataset\n",
    "smote = SMOTE(random_state=42)\n",
    "X_resampled, y_resampled = smote.fit_resample(X, y)\n",
    "\n",
    "# Check the new class distribution\n",
    "print(\"Original class distribution:\\n\", y.value_counts())\n",
    "print(\"\\nNew class distribution after SMOTE:\\n\", y_resampled.value_counts())"
   ]
  },
  {
   "cell_type": "code",
   "execution_count": null,
   "id": "7281124a",
   "metadata": {},
   "outputs": [],
   "source": [
    "from sklearn.model_selection import train_test_split\n",
    "\n",
    "# Split the data into 80% for training and 20% for testing\n",
    "X_train, X_test, y_train, y_test = train_test_split(X_resampled, y_resampled, test_size=0.2, random_state=42)\n",
    "\n",
    "print(\"Training set shape:\", X_train.shape)\n",
    "print(\"Testing set shape:\", X_test.shape)"
   ]
  },
  {
   "cell_type": "code",
   "execution_count": null,
   "id": "4b68b194",
   "metadata": {},
   "outputs": [],
   "source": [
    "from sklearn.preprocessing import StandardScaler\n",
    "\n",
    "# Create a scaler object\n",
    "scaler = StandardScaler()\n",
    "\n",
    "# Fit the scaler on the training data and transform it\n",
    "X_train_scaled = scaler.fit_transform(X_train)\n",
    "\n",
    "# Transform the test data using the same scaler\n",
    "X_test_scaled = scaler.transform(X_test)"
   ]
  },
  {
   "cell_type": "code",
   "execution_count": null,
   "id": "e949380b",
   "metadata": {},
   "outputs": [],
   "source": [
    "from sklearn.linear_model import LogisticRegression\n",
    "from sklearn.metrics import classification_report, accuracy_score\n",
    "\n",
    "# Create and train the model\n",
    "lr_model = LogisticRegression(random_state=42)\n",
    "lr_model.fit(X_train_scaled, y_train)\n",
    "\n",
    "# Make predictions on the test set\n",
    "y_pred_lr = lr_model.predict(X_test_scaled)\n",
    "\n",
    "# Evaluate the model\n",
    "print(\"--- Logistic Regression Results ---\")\n",
    "print(f\"Accuracy: {accuracy_score(y_test, y_pred_lr):.2f}\")\n",
    "print(classification_report(y_test, y_pred_lr))"
   ]
  },
  {
   "cell_type": "code",
   "execution_count": null,
   "id": "5e665491",
   "metadata": {},
   "outputs": [],
   "source": [
    "from sklearn.ensemble import RandomForestClassifier\n",
    "\n",
    "# Create and train the model\n",
    "rf_model = RandomForestClassifier(random_state=42)\n",
    "rf_model.fit(X_train_scaled, y_train)\n",
    "\n",
    "# Make predictions on the test set\n",
    "y_pred_rf = rf_model.predict(X_test_scaled)\n",
    "\n",
    "# Evaluate the model\n",
    "print(\"--- Random Forest Results ---\")\n",
    "print(f\"Accuracy: {accuracy_score(y_test, y_pred_rf):.2f}\")\n",
    "print(classification_report(y_test, y_pred_rf))"
   ]
  },
  {
   "cell_type": "code",
   "execution_count": null,
   "id": "15f3bf5f",
   "metadata": {},
   "outputs": [],
   "source": [
    "# You might need to install XGBoost first: pip install xgboost\n",
    "import xgboost as xgb\n",
    "\n",
    "# Create and train the model\n",
    "xgb_model = xgb.XGBClassifier(random_state=42, use_label_encoder=False, eval_metric='logloss')\n",
    "xgb_model.fit(X_train_scaled, y_train)\n",
    "\n",
    "# Make predictions on the test set\n",
    "y_pred_xgb = xgb_model.predict(X_test_scaled)\n",
    "\n",
    "# Evaluate the model\n",
    "print(\"--- XGBoost Results ---\")\n",
    "print(f\"Accuracy: {accuracy_score(y_test, y_pred_xgb):.2f}\")\n",
    "print(classification_report(y_test, y_pred_xgb))"
   ]
  },
  {
   "cell_type": "code",
   "execution_count": 29,
   "id": "60998e1f",
   "metadata": {},
   "outputs": [
    {
     "data": {
      "image/png": "[encoded data removed]",
      "text/plain": [
       "<Figure size 1400x800 with 1 Axes>"
      ]
     },
     "metadata": {},
     "output_type": "display_data"
    }
   ],
   "source": [
    "from sklearn.metrics import accuracy_score, precision_score, recall_score, f1_score\n",
    "import pandas as pd\n",
    "\n",
    "# --- Make sure you have these variables from the previous training steps ---\n",
    "# y_test, y_pred_lr, y_pred_rf, y_pred_xgb\n",
    "\n",
    "# --- Calculate all metrics for each model ---\n",
    "models = {\n",
    "    \"Logistic Regression\": y_pred_lr,\n",
    "    \"Random Forest\": y_pred_rf,\n",
    "    \"XGBoost\": y_pred_xgb\n",
    "}\n",
    "\n",
    "# Create a list to store the results\n",
    "plot_data = []\n",
    "\n",
    "for model_name, y_pred in models.items():\n",
    "    accuracy = accuracy_score(y_test, y_pred)\n",
    "    # Calculate metrics specifically for the positive class (stroke=1)\n",
    "    precision = precision_score(y_test, y_pred, pos_label=1)\n",
    "    recall = recall_score(y_test, y_pred, pos_label=1)\n",
    "    f1 = f1_score(y_test, y_pred, pos_label=1)\n",
    "    plot_data.extend([\n",
    "        {'Model': model_name, 'KPI': 'Accuracy', 'Score': accuracy},\n",
    "        {'Model': model_name, 'KPI': 'Precision', 'Score': precision},\n",
    "        {'Model': model_name, 'KPI': 'Recall', 'Score': recall},\n",
    "        {'Model': model_name, 'KPI': 'F1-Score', 'Score': f1}\n",
    "    ])\n",
    "\n",
    "# Convert the list of dictionaries to a pandas DataFrame for easy plotting\n",
    "df_plot = pd.DataFrame(plot_data)\n",
    "\n",
    "\n",
    "# --- Create the grouped bar chart ---\n",
    "plt.figure(figsize=(14, 8))\n",
    "sns.barplot(x='KPI', y='Score', hue='Model', data=df_plot)\n",
    "\n",
    "plt.title('Comparison of Model Performance Across All KPIs', fontsize=16)\n",
    "plt.xlabel('Key Performance Indicator (KPI)', fontsize=12)\n",
    "plt.ylabel('Score', fontsize=12)\n",
    "plt.ylim(0.8, 1.0) # Zoom in on the scores for better visibility\n",
    "plt.legend(title='Model', fontsize=11)\n",
    "plt.grid(axis='y', linestyle='--', alpha=0.7)\n",
    "plt.show()"
   ]
  },
  {
   "cell_type": "code",
   "execution_count": 30,
   "id": "9730b914",
   "metadata": {},
   "outputs": [
    {
     "name": "stdout",
     "output_type": "stream",
     "text": [
      "Model and scaler have been saved successfully to stroke_model.pkl and scaler.pkl\n"
     ]
    }
   ],
   "source": [
    "import joblib\n",
    "\n",
    "# --- Assume your best model is named 'xgb_model' and your scaler is 'scaler' ---\n",
    "\n",
    "# 1. Save the model to a file\n",
    "joblib.dump(xgb_model, 'stroke_model.pkl')\n",
    "\n",
    "# 2. Save the scaler to a file\n",
    "joblib.dump(scaler, 'scaler.pkl')\n",
    "\n",
    "print(\"Model and scaler have been saved successfully to stroke_model.pkl and scaler.pkl\")"
   ]
  }
 ],
 "metadata": {
  "kernelspec": {
   "display_name": "Python 3",
   "language": "python",
   "name": "python3"
  },
  "language_info": {
   "codemirror_mode": {
    "name": "ipython",
    "version": 3
   },
   "file_extension": ".py",
   "mimetype": "text/x-python",
   "name": "python",
   "nbconvert_exporter": "python",
   "pygments_lexer": "ipython3",
   "version": "3.13.1"
  }
 },
 "nbformat": 4,
 "nbformat_minor": 5
}
